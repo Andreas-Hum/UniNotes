{
 "cells": [
  {
   "cell_type": "markdown",
   "id": "cd060f61-d678-4259-ae08-c77c8229bc94",
   "metadata": {},
   "source": [
    "# For learning and using AI"
   ]
  },
  {
   "cell_type": "code",
   "execution_count": null,
   "id": "76e37c10-5750-4068-b52e-72ce98a26e7e",
   "metadata": {},
   "outputs": [],
   "source": []
  }
 ],
 "metadata": {
  "kernelspec": {
   "display_name": "Python 3 (ipykernel)",
   "language": "python",
   "name": "python3"
  },
  "language_info": {
   "codemirror_mode": {
    "name": "ipython",
    "version": 3
   },
   "file_extension": ".py",
   "mimetype": "text/x-python",
   "name": "python",
   "nbconvert_exporter": "python",
   "pygments_lexer": "ipython3",
   "version": "3.12.4"
  }
 },
 "nbformat": 4,
 "nbformat_minor": 5
}
