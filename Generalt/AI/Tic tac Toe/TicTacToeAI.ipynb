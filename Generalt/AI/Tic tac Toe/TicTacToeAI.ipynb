{
  "nbformat": 4,
  "nbformat_minor": 0,
  "metadata": {
    "colab": {
      "provenance": []
    },
    "kernelspec": {
      "name": "python3",
      "display_name": "Python 3"
    },
    "language_info": {
      "name": "python"
    }
  },
  "cells": [
    {
      "cell_type": "markdown",
      "source": [
        "# **Tic Tac Toe: Understanding Adversarial Search and the Minimax Algorithm**\n"
      ],
      "metadata": {
        "id": "u-ieWDY9GOxa"
      }
    },
    {
      "cell_type": "markdown",
      "source": [
        "## Author\n",
        "**Andreas Hummelmose**  \n",
        "*Computer Science Student, 5th Semester, Aalborg University*  \n",
        "[LinkedIn: Andreas Hummelmose](https://www.linkedin.com/in/andreas-hummelmose-77580a252/)\n",
        "\n",
        "---\n"
      ],
      "metadata": {
        "id": "E62rv_VzGJb4"
      }
    },
    {
      "cell_type": "markdown",
      "source": [
        "## **1. Introduction to Adversarial Search**\n",
        "\n"
      ],
      "metadata": {
        "id": "SAeMeMHdGXb4"
      }
    },
    {
      "cell_type": "markdown",
      "source": [
        "We’ll start by introducing the concept of adversarial search, which is a framework for solving problems where multiple agents compete against each other."
      ],
      "metadata": {
        "id": "n5Hdb7zbGYFX"
      }
    },
    {
      "cell_type": "markdown",
      "source": [
        "### **1.1 What is Adversarial Search?**\n"
      ],
      "metadata": {
        "id": "7t4it5lHGeEC"
      }
    },
    {
      "cell_type": "markdown",
      "source": [
        "An adversarial search problem is characterized by a conflict of interests between two or more agents, typically modeled as a game. Each agent aims to maximize its own utility while minimizing that of the opponent.\n"
      ],
      "metadata": {
        "id": "rllz6uZgGfnB"
      }
    },
    {
      "cell_type": "markdown",
      "source": [
        "### **1.2 Key Components of Adversarial Search**\n"
      ],
      "metadata": {
        "id": "-142DeaPGgMj"
      }
    },
    {
      "cell_type": "markdown",
      "source": [
        "- **Players**: Agents that make decisions in the game.\n",
        "- **Actions**: The possible moves a player can make at each turn.\n",
        "- **State**: A configuration of the game at a particular point in time.\n",
        "- **Transition Model**: The function, which describes the result of applying an action to a state.\n",
        "- **Utility Function**: A function that assigns a numerical value to the outcome of the game, reflecting the preferences of the player.\n",
        "- **Initial State**: The starting configuration of the game.\n",
        "- **Terminal State**: The state where the game ends (e.g., a win, loss, or draw).\n"
      ],
      "metadata": {
        "id": "80FtjjppGjHP"
      }
    },
    {
      "cell_type": "markdown",
      "source": [
        "### **1.3 Formal Definition**\n"
      ],
      "metadata": {
        "id": "hgDAk_5JGl2A"
      }
    },
    {
      "cell_type": "markdown",
      "source": [
        "We can define an adversarial search problem as a tuple $ (S, A,δ, P, U, s_0, T) $, where:\n",
        "\n",
        "- $S$: Set of all possible states.\n",
        "- $A$: Set of all possible actions.\n",
        "- $\\delta: S \\times A \\rightarrow S$: Transition function that describes the result of applying an action to a state.\n",
        "- $ P: S \\rightarrow \\{\\text{Player 1}, \\text{Player 2}, \\dots\\} $:\n",
        " Function to determines whose turn it is.\n",
        "- $ U: S \\rightarrow \\mathbb{R} $: Utility function, assigning a value to terminal states.\n",
        "- $ s_0 \\in S $: Initial state.\n",
        "- $ T: S \\rightarrow \\text{bool} $: Function to determine if a state is terminal."
      ],
      "metadata": {
        "id": "WCCZ9dNdGmbv"
      }
    },
    {
      "cell_type": "markdown",
      "source": [
        "### **Example in Tic-Tac-Toe:**\n"
      ],
      "metadata": {
        "id": "9s_T7RNnIMR0"
      }
    },
    {
      "cell_type": "markdown",
      "source": [
        "In Tic-Tac-Toe:\n",
        "- Players alternate turns marking the grid.\n",
        "- The utility function could assign +1 for a win, -1 for a loss, and 0 for a draw.\n",
        "- The initial state is an empty 3x3 grid.\n",
        "- A terminal state occurs when one player wins or all cells are filled without a winner."
      ],
      "metadata": {
        "id": "Q2B63AQFIPYo"
      }
    },
    {
      "cell_type": "markdown",
      "source": [
        "## **2. The Minimax Algorithm**"
      ],
      "metadata": {
        "id": "OPG6UmLOKWhw"
      }
    },
    {
      "cell_type": "markdown",
      "source": [
        "Here we introduce the Minimax algorithm, which is central to solving adversarial search problems.\n",
        "\n"
      ],
      "metadata": {
        "id": "rZdQjNiuKY_j"
      }
    },
    {
      "cell_type": "markdown",
      "source": [
        "### **2.1 What is the Minimax Algorithm?**\n"
      ],
      "metadata": {
        "id": "LUAf0-wbKZ3R"
      }
    },
    {
      "cell_type": "markdown",
      "source": [
        "Minimax is a recursive decision-making algorithm used in two-player games. The core idea is to minimize the possible loss for a worst-case scenario, which effectively maximizes the minimum gain (hence the name \"Minimax\")."
      ],
      "metadata": {
        "id": "fumzY_0hKdFB"
      }
    },
    {
      "cell_type": "markdown",
      "source": [
        "### **2.2 How Minimax Works**\n"
      ],
      "metadata": {
        "id": "g6VKBvVJKepx"
      }
    },
    {
      "cell_type": "markdown",
      "source": [
        "The algorithm explores all possible moves in the game, constructing a game tree. Each node represents a game state, and each branch represents a possible move. The algorithm alternates between maximizing and minimizing players to determine the optimal move.\n",
        "\n"
      ],
      "metadata": {
        "id": "exU-yYwRKfrA"
      }
    },
    {
      "cell_type": "markdown",
      "source": [
        "### **2.3 Key Concepts**"
      ],
      "metadata": {
        "id": "x390QYNIKnHH"
      }
    },
    {
      "cell_type": "markdown",
      "source": [
        "- **Maximizing Player**: The player who tries to maximize the utility.\n",
        "- **Minimizing Player**: The opponent who tries to minimize the utility.\n",
        "- **Utility Function**: A function that assigns a numerical value to the terminal states. For example, in Tic-Tac-Toe:\n",
        "  - A win might be +1 for the maximizing player.\n",
        "  - A loss might be -1 for the maximizing player.\n",
        "  - A draw is typically 0.\n"
      ],
      "metadata": {
        "id": "b8UsdKYrKrlk"
      }
    },
    {
      "cell_type": "markdown",
      "source": [
        "### **Formal Pseudocode of Minimax:**\n"
      ],
      "metadata": {
        "id": "jttc9MNMLK4v"
      }
    },
    {
      "cell_type": "markdown",
      "source": [
        "```plaintext\n",
        "FUNCTION Minimax(state, depth, maximizingPlayer) -> INTEGER\n",
        "\tIF depth = 0 OR TerminalState(state) THEN\n",
        "\t\tRETURN Utility(state)\n",
        "\tEND IF\n",
        "\tIF maximizingPlayer THEN\n",
        "\t    maxEval ← -∞\n",
        "\t    FOR each action IN Actions(state) DO\n",
        "\t        eval ← Minimax(Result(state, action), depth - 1, FALSE)\n",
        "\t        maxEval ← MAX(maxEval, eval)\n",
        "\t    END FOR\n",
        "\t    RETURN maxEval\n",
        "\tELSE\n",
        "\t    minEval ← ∞\n",
        "\t    FOR each action IN Actions(state) DO\n",
        "\t        eval ← Minimax(Result(state, action), depth - 1, TRUE)\n",
        "\t        minEval ← MIN(minEval, eval)\n",
        "\t    END FOR\n",
        "\t    RETURN minEval\n",
        "\tEND IF\n",
        "END FUNCTION\n",
        "\n",
        "```"
      ],
      "metadata": {
        "id": "jiUg_ZWiLMPF"
      }
    },
    {
      "cell_type": "markdown",
      "source": [
        "### **Explanation:**\n"
      ],
      "metadata": {
        "id": "6yx28IAqLSJO"
      }
    },
    {
      "cell_type": "markdown",
      "source": [
        "- **Terminal State Check**: The algorithm first checks if the game has reached a terminal state (end of the game) or if the search depth limit is reached.\n",
        "- **Maximizing Player's Turn**: The algorithm selects the move that leads to the highest utility value.\n",
        "- **Minimizing Player's Turn**: The algorithm selects the move that leads to the lowest utility value.\n"
      ],
      "metadata": {
        "id": "Ru11v_GWLTgu"
      }
    },
    {
      "cell_type": "markdown",
      "source": [
        "## **3. Implementing the Tic-Tac-Toe Game**\n"
      ],
      "metadata": {
        "id": "gQaHnu2tNIyi"
      }
    },
    {
      "cell_type": "markdown",
      "source": [
        "Now that we've covered the theory, let's start implementing the Tic-Tac-Toe game using Python. This implementation includes a human vs. AI mode, where the AI uses the Minimax algorithm with Alpha-Beta Pruning."
      ],
      "metadata": {
        "id": "WgZ3cBsbNRLx"
      }
    },
    {
      "cell_type": "markdown",
      "source": [
        "### **3.1 Tic-Tac-Toe Game Setup**\n"
      ],
      "metadata": {
        "id": "I15vMxoRNSi7"
      }
    },
    {
      "cell_type": "markdown",
      "source": [
        "We'll start by defining the Tic-Tac-Toe game class, which manages the game state, handles player turns, and checks for a win or draw."
      ],
      "metadata": {
        "id": "ZXvwVEaYNVFD"
      }
    },
    {
      "cell_type": "code",
      "source": [
        "import numpy as np\n",
        "\n",
        "class TicTacToe:\n",
        "    def __init__(self, players: int = 1) -> None:\n",
        "        \"\"\"Initialize the TicTacToe game.\n",
        "\n",
        "        Args:\n",
        "            players (int): Number of human players (0 for AI vs AI, 1 for human vs AI, 2 for human vs human).\n",
        "        \"\"\"\n",
        "        self.turns = {\n",
        "            1: \"X\",\n",
        "            2: \"O\"\n",
        "        }\n",
        "        self.players = players\n",
        "        self.ai = players < 2  # If less than 2 players, AI is involved\n",
        "\n",
        "    def start(self) -> None:\n",
        "        \"\"\"Start a new game with the specified number of players.\"\"\"\n",
        "        self.board = TTTBoardGenerator.generate_board()\n",
        "        self.turn = 1\n",
        "        self.winner = None\n",
        "        if self.ai:\n",
        "            self.brain = TTTAI()  # Initialize AI if required\n",
        "        self.game_loop()"
      ],
      "metadata": {
        "id": "4yiN8Y-FNXP6"
      },
      "execution_count": 31,
      "outputs": []
    },
    {
      "cell_type": "markdown",
      "source": [
        "### **3.2 Game Loop and Player Turns**\n"
      ],
      "metadata": {
        "id": "bPCYNYSNNZmv"
      }
    },
    {
      "cell_type": "markdown",
      "source": [
        "The `game_loop` function runs the main loop of the game, alternating turns between players (human or AI) until the game ends. It also checks for a win or tie after each turn.\n",
        "\n"
      ],
      "metadata": {
        "id": "zznGe1-CNd9G"
      }
    },
    {
      "cell_type": "code",
      "execution_count": 32,
      "metadata": {
        "id": "zPKm2jWVGGXS"
      },
      "outputs": [],
      "source": [
        "    def game_loop(self) -> None:\n",
        "        \"\"\"Main game loop that handles player and AI turns.\"\"\"\n",
        "        while True:\n",
        "            current_turn = self.turn\n",
        "\n",
        "            if self.players == 0:  # AI vs AI\n",
        "                move = self.brain.choose_move(self.board, current_turn)\n",
        "                self.update_board(move, current_turn)\n",
        "                self.print_board()\n",
        "            elif self.players == 1 and current_turn == 2:  # Human vs AI, AI's turn\n",
        "                print(f\"AI turn\")\n",
        "                move = self.brain.choose_move(self.board, 2)\n",
        "                self.update_board(move, 2)\n",
        "                self.print_board()\n",
        "            else:  # Human player's turn\n",
        "                self.human_turn(current_turn)\n",
        "\n",
        "            self.win_test(current_turn)\n",
        "            if self.winner is not None:\n",
        "                self.display_winner()\n",
        "                break\n",
        "\n",
        "            self.turn = 2 if current_turn == 1 else 1"
      ]
    },
    {
      "cell_type": "markdown",
      "source": [
        "### **3.3 Handling Human Turns**\n"
      ],
      "metadata": {
        "id": "lcgGw91VNrwv"
      }
    },
    {
      "cell_type": "markdown",
      "source": [
        "The `human_turn` function processes the input from the human player, ensuring the move is valid before updating the board.\n",
        "\n"
      ],
      "metadata": {
        "id": "EQeFCKAkNt2e"
      }
    },
    {
      "cell_type": "code",
      "source": [
        "    def human_turn(self, turn) -> None:\n",
        "        \"\"\"Handle human player's turn.\"\"\"\n",
        "        print(f\"Player {turn}: Press 0-8\")\n",
        "        self.print_board()\n",
        "        available = self.available_actions()\n",
        "        while True:\n",
        "            try:\n",
        "                player_input = int(input())\n",
        "                if player_input < 0 or player_input > 8 or player_input not in available:\n",
        "                    print(\"Invalid move\")\n",
        "                else:\n",
        "                    self.update_board(player_input, turn)\n",
        "                    break\n",
        "            except ValueError:\n",
        "                print(\"Invalid input. Please enter a number between 0 and 8.\")"
      ],
      "metadata": {
        "id": "jeCNkFWxNxHL"
      },
      "execution_count": 33,
      "outputs": []
    },
    {
      "cell_type": "markdown",
      "source": [
        "### **3.4 Updating the Board**\n"
      ],
      "metadata": {
        "id": "NFgLlkX3N1LX"
      }
    },
    {
      "cell_type": "markdown",
      "source": [
        "The `update_board` function updates the game board based on the move made by a player (or AI).\n",
        "\n"
      ],
      "metadata": {
        "id": "f80HcEKhN3rs"
      }
    },
    {
      "cell_type": "code",
      "source": [
        "    def update_board(self, move, turn) -> None:\n",
        "        \"\"\"Update the board with the player's or AI's move.\"\"\"\n",
        "        row = move // 3\n",
        "        col = move % 3\n",
        "        self.board[row, col] = self.turns[turn]"
      ],
      "metadata": {
        "id": "VyhGM1rLN8Jz"
      },
      "execution_count": 34,
      "outputs": []
    },
    {
      "cell_type": "markdown",
      "source": [
        "### **3.5 Checking for Available Actions**\n"
      ],
      "metadata": {
        "id": "bmMMPpuvN84i"
      }
    },
    {
      "cell_type": "markdown",
      "source": [
        "The `available_actions` function returns a list of available moves on the board.\n",
        "\n"
      ],
      "metadata": {
        "id": "SR_hzM74OAex"
      }
    },
    {
      "cell_type": "code",
      "source": [
        "    def available_actions(self) -> list:\n",
        "        \"\"\"Return a list of available actions on the board.\"\"\"\n",
        "        return [i for i in range(9) if self.board[i // 3, i % 3] == \"\"]"
      ],
      "metadata": {
        "id": "joqme5oUOFXV"
      },
      "execution_count": 35,
      "outputs": []
    },
    {
      "cell_type": "markdown",
      "source": [
        "### **3.6 Printing the Board**\n"
      ],
      "metadata": {
        "id": "dTsz1H2nOHli"
      }
    },
    {
      "cell_type": "markdown",
      "source": [
        "The `print_board` function displays the current state of the board."
      ],
      "metadata": {
        "id": "AIedxDuBOOyQ"
      }
    },
    {
      "cell_type": "code",
      "source": [
        "    def print_board(self) -> None:\n",
        "        \"\"\"Print the current state of the board.\"\"\"\n",
        "        for i in range(3):\n",
        "            print(\"\".join(\"-\" for _ in range(49)))\n",
        "            row_display = [\n",
        "                f\"{i * 3 + j}\" if self.board[i, j] == \"\" else self.board[i, j]\n",
        "                for j in range(3)\n",
        "            ]\n",
        "            print(f\"|\\t{row_display[0]}\\t|\\t{row_display[1]}\\t|\\t{row_display[2]}\\t|\")\n",
        "        print(\"\".join(\"-\" for _ in range(49)))"
      ],
      "metadata": {
        "id": "s0Vk-F1oOHQd"
      },
      "execution_count": 36,
      "outputs": []
    },
    {
      "cell_type": "markdown",
      "source": [
        "### **3.7 Checking for a Win or Tie**"
      ],
      "metadata": {
        "id": "IDi_uH9IOUr9"
      }
    },
    {
      "cell_type": "markdown",
      "source": [
        "The `win_test` function checks if the game has ended in a win or a tie."
      ],
      "metadata": {
        "id": "OhiEzsTAPbo3"
      }
    },
    {
      "cell_type": "code",
      "source": [
        "    def win_test(self, turn) -> None:\n",
        "        \"\"\"Check if there's a winner or a tie.\"\"\"\n",
        "        if len(self.available_actions()) == 0:\n",
        "            self.winner = 0  # Tie game\n",
        "            return\n",
        "        if self.check_diagonals() or self.check_rows_and_columns():\n",
        "            self.winner = turn\n",
        "\n",
        "    def check_diagonals(self) -> bool:\n",
        "        \"\"\"Check the diagonals for a win.\"\"\"\n",
        "        return (\n",
        "            self.board[0, 0] == self.board[1, 1] == self.board[2, 2] != \"\" or\n",
        "            self.board[0, 2] == self.board[1, 1] == self.board[2, 0] != \"\"\n",
        "        )\n",
        "\n",
        "    def check_rows_and_columns(self) -> bool:\n",
        "        \"\"\"Check all rows and columns for a win.\"\"\"\n",
        "        for i in range(3):\n",
        "            if (\n",
        "                self.board[i, 0] == self.board[i, 1] == self.board[i, 2] != \"\" or\n",
        "                self.board[0, i] == self.board[1, i] == self.board[2, i] != \"\"\n",
        "            ):\n",
        "                return True\n",
        "        return False\n",
        "\n",
        "    def display_winner(self) -> None:\n",
        "        \"\"\"Display the result of the game.\"\"\"\n",
        "        if self.winner == 0:\n",
        "            print(\"Tie\")\n",
        "        else:\n",
        "            print(f\"Player {self.winner} wins!!\")"
      ],
      "metadata": {
        "id": "kusNTL1iOX-W"
      },
      "execution_count": 37,
      "outputs": []
    },
    {
      "cell_type": "markdown",
      "source": [
        "## **4. Implementing the AI with Minimax**"
      ],
      "metadata": {
        "id": "K6Fxj53Kp5Al"
      }
    },
    {
      "cell_type": "markdown",
      "source": [
        "Now that we have the game mechanics, let's implement the AI using the Minimax algorithm with Alpha-Beta Pruning.\n",
        "\n"
      ],
      "metadata": {
        "id": "m6OH5euJp95R"
      }
    },
    {
      "cell_type": "markdown",
      "source": [
        "### **4.1 Initializing the AI**\n"
      ],
      "metadata": {
        "id": "cqfaNAiDp_t_"
      }
    },
    {
      "cell_type": "markdown",
      "source": [
        "The `TTTAI` class is responsible for determining the best move for the AI using the Minimax algorithm.\n",
        "\n"
      ],
      "metadata": {
        "id": "elnL0QMYqCpr"
      }
    },
    {
      "cell_type": "code",
      "source": [
        "class TTTAI:\n",
        "    def __init__(self) -> None:\n",
        "        \"\"\"Initialize the Tic-Tac-Toe AI.\"\"\"\n",
        "        self.turns = {\n",
        "            1: \"X\",\n",
        "            2: \"O\"\n",
        "        }"
      ],
      "metadata": {
        "id": "8xlzkwcBqZfM"
      },
      "execution_count": 38,
      "outputs": []
    },
    {
      "cell_type": "markdown",
      "source": [
        "### **4.2 Choosing the Best Move**\n"
      ],
      "metadata": {
        "id": "mxObKUNvqbqc"
      }
    },
    {
      "cell_type": "markdown",
      "source": [
        "The `choose_move` function uses the Minimax algorithm to select the best move for the AI."
      ],
      "metadata": {
        "id": "dmEhN6Duqf_N"
      }
    },
    {
      "cell_type": "code",
      "source": [
        "    def choose_move(self, state, turn) -> int:\n",
        "        \"\"\"Choose the best move for the current state and turn using Minimax with Alpha-Beta Pruning.\n",
        "\n",
        "        Args:\n",
        "            state (np.ndarray): The current state of the board.\n",
        "            turn (int): The player's turn (1 or 2).\n",
        "\n",
        "        Returns:\n",
        "            int: The index of the best move.\n",
        "        \"\"\"\n",
        "        if turn == 2:\n",
        "            return self.minimax_decision(state, turn, float(\"inf\"), False)\n",
        "        else:\n",
        "            return self.minimax_decision(state, turn, float(\"-inf\"), True)"
      ],
      "metadata": {
        "id": "3V7cG4YLqfId"
      },
      "execution_count": 39,
      "outputs": []
    },
    {
      "cell_type": "markdown",
      "source": [
        "### **4.3 Minimax Decision-Making**\n"
      ],
      "metadata": {
        "id": "Xg1niwylqkN2"
      }
    },
    {
      "cell_type": "markdown",
      "source": [
        "The `minimax_decision` function carries out the Minimax decision-making process with Alpha-Beta Pruning.\n",
        "\n"
      ],
      "metadata": {
        "id": "wVqY0kRUqoR0"
      }
    },
    {
      "cell_type": "code",
      "source": [
        "    def minimax_decision(self, state, turn, best_value, is_maximizing) -> int:\n",
        "        \"\"\"Perform the Minimax decision-making process with Alpha-Beta Pruning.\n",
        "\n",
        "        Args:\n",
        "            state (np.ndarray): The current state of the board.\n",
        "            turn (int): The player's turn (1 or 2).\n",
        "            best_value (float): The initial best value to compare against.\n",
        "            is_maximizing (bool): Flag to determine if maximizing or minimizing.\n",
        "\n",
        "        Returns:\n",
        "            int: The index of the best move.\n",
        "        \"\"\"\n",
        "        best_move = None\n",
        "        for action in self.available_actions(state):\n",
        "            new_state = self.transition_model(state, action, turn)\n",
        "            eval = self.minimax(new_state, not is_maximizing, float(\"-inf\"), float(\"inf\"))\n",
        "            if is_maximizing and eval > best_value or not is_maximizing and eval < best_value:\n",
        "                best_value = eval\n",
        "                best_move = action\n",
        "        return best_move"
      ],
      "metadata": {
        "id": "aPSuxcgwqr6r"
      },
      "execution_count": 40,
      "outputs": []
    },
    {
      "cell_type": "markdown",
      "source": [
        "### **4.4 Minimax Algorithm with Alpha-Beta Pruning**\n"
      ],
      "metadata": {
        "id": "KEDxdgmYqtbP"
      }
    },
    {
      "cell_type": "markdown",
      "source": [
        "The `minimax` function implements the Minimax algorithm with Alpha-Beta Pruning.\n",
        "\n"
      ],
      "metadata": {
        "id": "urYQfr_yqv_6"
      }
    },
    {
      "cell_type": "code",
      "source": [
        "    def minimax(self, state, maximizingPlayer, alpha, beta) -> int:\n",
        "        \"\"\"Minimax algorithm with Alpha-Beta Pruning to optimize the search tree.\n",
        "\n",
        "        Args:\n",
        "            state (np.ndarray): The current state of the board.\n",
        "            maximizingPlayer (bool): Flag to determine if maximizing or minimizing.\n",
        "            alpha (float): The alpha value for pruning (highest value that the maximizer can guarantee).\n",
        "            beta (float): The beta value for pruning (lowest value that the minimizer can guarantee).\n",
        "\n",
        "        Returns:\n",
        "            int: The evaluated value of the board.\n",
        "        \"\"\"\n",
        "        if self.terminal(state):\n",
        "            return self.utility(state)\n",
        "\n",
        "        if maximizingPlayer:\n",
        "            return self.maximize(state, alpha, beta)\n",
        "        else:\n",
        "            return self.minimize(state, alpha, beta)"
      ],
      "metadata": {
        "id": "5mW9orcfr6xA"
      },
      "execution_count": 41,
      "outputs": []
    },
    {
      "cell_type": "markdown",
      "source": [
        "### **4.5 Maximization and Minimization Functions**\n"
      ],
      "metadata": {
        "id": "HB2fhRn-r8-Z"
      }
    },
    {
      "cell_type": "markdown",
      "source": [
        "\n",
        "The `maximize` and `minimize` functions perform the core logic of the Minimax algorithm, using Alpha-Beta Pruning to eliminate branches that do not need to be evaluated.\n",
        "\n"
      ],
      "metadata": {
        "id": "mS0DGQxesAyb"
      }
    },
    {
      "cell_type": "code",
      "source": [
        "    def maximize(self, state, alpha, beta) -> int:\n",
        "        \"\"\"Maximization step in the Minimax algorithm with Alpha-Beta Pruning.\n",
        "\n",
        "        Args:\n",
        "            state (np.ndarray): The current state of the board.\n",
        "            alpha (float): The alpha value for pruning.\n",
        "            beta (float): The beta value for pruning.\n",
        "\n",
        "        Returns:\n",
        "            int: The maximum evaluated value.\n",
        "        \"\"\"\n",
        "        maxEval = float(\"-inf\")\n",
        "        for action in self.available_actions(state):\n",
        "            eval = self.minimax(self.transition_model(state, action, 1), False, alpha, beta)\n",
        "            maxEval = max(maxEval, eval)\n",
        "            alpha = max(alpha, eval)\n",
        "            if beta <= alpha:  # Pruning condition\n",
        "                break\n",
        "        return maxEval\n",
        "\n",
        "    def minimize(self, state, alpha, beta) -> int:\n",
        "        \"\"\"Minimization step in the Minimax algorithm with Alpha-Beta Pruning.\n",
        "\n",
        "        Args:\n",
        "            state (np.ndarray): The current state of the board.\n",
        "            alpha (float): The alpha value for pruning.\n",
        "            beta (float): The beta value for pruning.\n",
        "\n",
        "        Returns:\n",
        "            int: The minimum evaluated value.\n",
        "        \"\"\"\n",
        "        minEval = float(\"inf\")\n",
        "        for action in self.available_actions(state):\n",
        "            eval = self.minimax(self.transition_model(state, action, 2), True, alpha, beta)\n",
        "            minEval = min(minEval, eval)\n",
        "            beta = min(beta, eval)\n",
        "            if beta <= alpha:  # Pruning condition\n",
        "                break\n",
        "        return minEval"
      ],
      "metadata": {
        "id": "R2fx-iiZsIpq"
      },
      "execution_count": 42,
      "outputs": []
    },
    {
      "cell_type": "markdown",
      "source": [
        "### **4.6 Utility and Terminal Functions**\n"
      ],
      "metadata": {
        "id": "GA4VtiV0sNWC"
      }
    },
    {
      "cell_type": "markdown",
      "source": [
        "The `utility` function evaluates the board to determine the game outcome, and the `terminal` function checks if the current state is a terminal state.\n",
        "\n"
      ],
      "metadata": {
        "id": "BZxoo1T4sevr"
      }
    },
    {
      "cell_type": "code",
      "source": [
        "    def utility(self, state) -> int:\n",
        "        \"\"\"Evaluate the utility of the current state.\"\"\"\n",
        "        for line in [state[i, :] for i in range(3)] + [state[:, i] for i in range(3)] + [state.diagonal(), np.fliplr(state).diagonal()]:\n",
        "            if np.all(line == 'X'):\n",
        "                return 1\n",
        "            elif np.all(line == 'O'):\n",
        "                return -1\n",
        "        return 0  # Draw or game not finished\n",
        "\n",
        "    def terminal(self, state) -> bool:\n",
        "        \"\"\"Check if the state is terminal (win or tie).\"\"\"\n",
        "        return len(self.available_actions(state)) == 0 or self.utility(state) != 0"
      ],
      "metadata": {
        "id": "cAjNpqOEslQS"
      },
      "execution_count": 43,
      "outputs": []
    },
    {
      "cell_type": "markdown",
      "source": [
        "### **4.7 Transition Model**\n"
      ],
      "metadata": {
        "id": "dTycxdkVsnzx"
      }
    },
    {
      "cell_type": "markdown",
      "source": [
        "The `transition_model` function generates the next state based on the current state and action.\n",
        "\n"
      ],
      "metadata": {
        "id": "A_IkR24AuGMh"
      }
    },
    {
      "cell_type": "code",
      "source": [
        "    def transition_model(self, state, action, turn):\n",
        "        \"\"\"Generate the next state based on the current state and action.\"\"\"\n",
        "        new_state = np.copy(state)\n",
        "        row = action // 3\n",
        "        col = action % 3\n",
        "        new_state[row, col] = self.turns[turn]\n",
        "        return new_state"
      ],
      "metadata": {
        "id": "aAnyDChauVms"
      },
      "execution_count": 44,
      "outputs": []
    },
    {
      "cell_type": "markdown",
      "source": [
        "## **5. Board Generator**\n"
      ],
      "metadata": {
        "id": "l-CxUNAKv7-P"
      }
    },
    {
      "cell_type": "markdown",
      "source": [
        "The `TTTBoardGenerator` class provides a method to generate an empty Tic-Tac-Toe board."
      ],
      "metadata": {
        "id": "WhZcylXdwDlU"
      }
    },
    {
      "cell_type": "code",
      "source": [
        "class TTTBoardGenerator:\n",
        "    @staticmethod\n",
        "    def generate_board() -> np.ndarray:\n",
        "        \"\"\"Generate an empty Tic-Tac-Toe board.\"\"\"\n",
        "        return np.full((3, 3), \"\", dtype=str)"
      ],
      "metadata": {
        "id": "FeZdHqSTwOI7"
      },
      "execution_count": 45,
      "outputs": []
    },
    {
      "cell_type": "markdown",
      "source": [
        "## **6. Putting It All Together**\n"
      ],
      "metadata": {
        "id": "yMm0CxQxwbe8"
      }
    },
    {
      "cell_type": "markdown",
      "source": [
        "We integrate all the components to create a complete Tic-Tac-Toe game where the AI uses the Minimax algorithm with Alpha-Beta Pruning to make decisions."
      ],
      "metadata": {
        "id": "UtxxgiLvySTx"
      }
    },
    {
      "cell_type": "code",
      "source": [
        "class TicTacToe:\n",
        "    def __init__(self, players: int = 1) -> None:\n",
        "        \"\"\"Initialize the TicTacToe game.\n",
        "\n",
        "        Args:\n",
        "            players (int): Number of human players (0 for AI vs AI, 1 for human vs AI, 2 for human vs human).\n",
        "        \"\"\"\n",
        "        self.turns = {\n",
        "            1: \"X\",\n",
        "            2: \"O\"\n",
        "        }\n",
        "        self.players = players\n",
        "        self.ai = players < 2  # If less than 2 players, AI is involved\n",
        "\n",
        "    def start(self) -> None:\n",
        "        \"\"\"Start a new game with the specified number of players.\"\"\"\n",
        "        self.board = TTTBoardGenerator.generate_board()\n",
        "        self.turn = 1\n",
        "        self.winner = None\n",
        "        if self.ai:\n",
        "            self.brain = TTTAI()  # Initialize AI if required\n",
        "        self.game_loop()\n",
        "\n",
        "    def game_loop(self) -> None:\n",
        "        \"\"\"Main game loop that handles player and AI turns.\"\"\"\n",
        "        while True:\n",
        "            current_turn = self.turn\n",
        "\n",
        "            if self.players == 0:  # AI vs AI\n",
        "                move = self.brain.choose_move(self.board, current_turn)\n",
        "                self.update_board(move, current_turn)\n",
        "                self.print_board()\n",
        "            elif self.players == 1 and current_turn == 2:  # Human vs AI, AI's turn\n",
        "                print(f\"AI turn\")\n",
        "                move = self.brain.choose_move(self.board, 2)\n",
        "                self.update_board(move, 2)\n",
        "                self.print_board()\n",
        "            else:  # Human player's turn\n",
        "                self.human_turn(current_turn)\n",
        "\n",
        "\n",
        "            self.win_test(current_turn)\n",
        "            if self.winner is not None:\n",
        "                self.display_winner()\n",
        "                break\n",
        "\n",
        "            self.turn = 2 if current_turn == 1 else 1\n",
        "\n",
        "    def human_turn(self, turn) -> None:\n",
        "        \"\"\"Handle human player's turn.\"\"\"\n",
        "        print(f\"Player {turn}: Press 0-8\")\n",
        "        self.print_board()\n",
        "        available = self.available_actions()\n",
        "        while True:\n",
        "            try:\n",
        "                player_input = int(input())\n",
        "                if player_input < 0 or player_input > 8 or player_input not in available:\n",
        "                    print(\"Invalid move\")\n",
        "                else:\n",
        "                    self.update_board(player_input, turn)\n",
        "                    break\n",
        "            except ValueError:\n",
        "                print(\"Invalid input. Please enter a number between 0 and 8.\")\n",
        "\n",
        "    def update_board(self, move, turn) -> None:\n",
        "        \"\"\"Update the board with the player's or AI's move.\"\"\"\n",
        "        row = move // 3\n",
        "        col = move % 3\n",
        "        self.board[row, col] = self.turns[turn]\n",
        "\n",
        "    def available_actions(self) -> list:\n",
        "        \"\"\"Return a list of available actions on the board.\"\"\"\n",
        "        return [i for i in range(9) if self.board[i // 3, i % 3] == \"\"]\n",
        "\n",
        "    def print_board(self) -> None:\n",
        "        \"\"\"Print the current state of the board.\"\"\"\n",
        "        for i in range(3):\n",
        "            print(\"\".join(\"-\" for _ in range(49)))\n",
        "            row_display = [\n",
        "                f\"{i * 3 + j}\" if self.board[i, j] == \"\" else self.board[i, j]\n",
        "                for j in range(3)\n",
        "            ]\n",
        "            print(f\"|\\t{row_display[0]}\\t|\\t{row_display[1]}\\t|\\t{row_display[2]}\\t|\")\n",
        "        print(\"\".join(\"-\" for _ in range(49)))\n",
        "\n",
        "    def win_test(self, turn) -> None:\n",
        "        \"\"\"Check if there's a winner or a tie.\"\"\"\n",
        "        if len(self.available_actions()) == 0:\n",
        "            self.winner = 0  # Tie game\n",
        "            return\n",
        "        if self.check_diagonals() or self.check_rows_and_columns():\n",
        "            self.winner = turn\n",
        "\n",
        "    def check_diagonals(self) -> bool:\n",
        "        \"\"\"Check the diagonals for a win.\"\"\"\n",
        "        return (\n",
        "            self.board[0, 0] == self.board[1, 1] == self.board[2, 2] != \"\" or\n",
        "            self.board[0, 2] == self.board[1, 1] == self.board[2, 0] != \"\"\n",
        "        )\n",
        "\n",
        "    def check_rows_and_columns(self) -> bool:\n",
        "        \"\"\"Check all rows and columns for a win.\"\"\"\n",
        "        for i in range(3):\n",
        "            if (\n",
        "                self.board[i, 0] == self.board[i, 1] == self.board[i, 2] != \"\" or\n",
        "                self.board[0, i] == self.board[1, i] == self.board[2, i] != \"\"\n",
        "            ):\n",
        "                return True\n",
        "        return False\n",
        "\n",
        "    def display_winner(self) -> None:\n",
        "        \"\"\"Display the result of the game.\"\"\"\n",
        "        if self.winner == 0:\n",
        "            print(\"Tie\")\n",
        "        else:\n",
        "            print(f\"Player {self.winner} wins!!\")\n",
        "\n",
        "\n",
        "class TTTAI:\n",
        "    def __init__(self) -> None:\n",
        "        \"\"\"Initialize the Tic-Tac-Toe AI.\"\"\"\n",
        "        self.turns = {\n",
        "            1: \"X\",\n",
        "            2: \"O\"\n",
        "        }\n",
        "\n",
        "    def choose_move(self, state, turn) -> int:\n",
        "        \"\"\"Choose the best move for the current state and turn using Minimax with Alpha-Beta Pruning.\n",
        "\n",
        "        Args:\n",
        "            state (np.ndarray): The current state of the board.\n",
        "            turn (int): The player's turn (1 or 2).\n",
        "\n",
        "        Returns:\n",
        "            int: The index of the best move.\n",
        "        \"\"\"\n",
        "        if turn == 2:\n",
        "            return self.minimax_decision(state, turn, float(\"inf\"), False)\n",
        "        else:\n",
        "            return self.minimax_decision(state, turn, float(\"-inf\"), True)\n",
        "\n",
        "    def minimax_decision(self, state, turn, best_value, is_maximizing) -> int:\n",
        "        \"\"\"Perform the Minimax decision-making process with Alpha-Beta Pruning.\n",
        "\n",
        "        Args:\n",
        "            state (np.ndarray): The current state of the board.\n",
        "            turn (int): The player's turn (1 or 2).\n",
        "            best_value (float): The initial best value to compare against.\n",
        "            is_maximizing (bool): Flag to determine if maximizing or minimizing.\n",
        "\n",
        "        Returns:\n",
        "            int: The index of the best move.\n",
        "        \"\"\"\n",
        "        best_move = None\n",
        "        for action in self.available_actions(state):\n",
        "            new_state = self.transition_model(state, action, turn)\n",
        "            eval = self.minimax(new_state, not is_maximizing, float(\"-inf\"), float(\"inf\"))\n",
        "            if is_maximizing and eval > best_value or not is_maximizing and eval < best_value:\n",
        "                best_value = eval\n",
        "                best_move = action\n",
        "        return best_move\n",
        "\n",
        "    def minimax(self, state, maximizingPlayer, alpha, beta) -> int:\n",
        "        \"\"\"Minimax algorithm with Alpha-Beta Pruning to optimize the search tree.\n",
        "\n",
        "        Args:\n",
        "            state (np.ndarray): The current state of the board.\n",
        "            maximizingPlayer (bool): Flag to determine if maximizing or minimizing.\n",
        "            alpha (float): The alpha value for pruning (highest value that the maximizer can guarantee).\n",
        "            beta (float): The beta value for pruning (lowest value that the minimizer can guarantee).\n",
        "\n",
        "        Returns:\n",
        "            int: The evaluated value of the board.\n",
        "        \"\"\"\n",
        "        if self.terminal(state):\n",
        "            return self.utility(state)\n",
        "\n",
        "        if maximizingPlayer:\n",
        "            return self.maximize(state, alpha, beta)\n",
        "        else:\n",
        "            return self.minimize(state, alpha, beta)\n",
        "\n",
        "    def maximize(self, state, alpha, beta) -> int:\n",
        "        \"\"\"Maximization step in the Minimax algorithm with Alpha-Beta Pruning.\n",
        "\n",
        "        Args:\n",
        "            state (np.ndarray): The current state of the board.\n",
        "            alpha (float): The alpha value for pruning.\n",
        "            beta (float): The beta value for pruning.\n",
        "\n",
        "        Returns:\n",
        "            int: The maximum evaluated value.\n",
        "        \"\"\"\n",
        "        maxEval = float(\"-inf\")\n",
        "        for action in self.available_actions(state):\n",
        "            eval = self.minimax(self.transition_model(state, action, 1), False, alpha, beta)\n",
        "            maxEval = max(maxEval, eval)\n",
        "            alpha = max(alpha, eval)\n",
        "            if beta <= alpha:  # Pruning condition\n",
        "                break\n",
        "        return maxEval\n",
        "\n",
        "    def minimize(self, state, alpha, beta) -> int:\n",
        "        \"\"\"Minimization step in the Minimax algorithm with Alpha-Beta Pruning.\n",
        "\n",
        "        Args:\n",
        "            state (np.ndarray): The current state of the board.\n",
        "            alpha (float): The alpha value for pruning.\n",
        "            beta (float): The beta value for pruning.\n",
        "\n",
        "        Returns:\n",
        "            int: The minimum evaluated value.\n",
        "        \"\"\"\n",
        "        minEval = float(\"inf\")\n",
        "        for action in self.available_actions(state):\n",
        "            eval = self.minimax(self.transition_model(state, action, 2), True, alpha, beta)\n",
        "            minEval = min(minEval, eval)\n",
        "            beta = min(beta, eval)\n",
        "            if beta <= alpha:  # Pruning condition\n",
        "                break\n",
        "        return minEval\n",
        "\n",
        "    def available_actions(self, state) -> list:\n",
        "        \"\"\"Return a list of available actions on the board.\"\"\"\n",
        "        return [i for i in range(9) if state[i // 3, i % 3] == \"\"]\n",
        "\n",
        "    def transition_model(self, state, action, turn):\n",
        "        \"\"\"Generate the next state based on the current state and action.\"\"\"\n",
        "        new_state = np.copy(state)\n",
        "        row = action // 3\n",
        "        col = action % 3\n",
        "        new_state[row, col] = self.turns[turn]\n",
        "        return new_state\n",
        "\n",
        "    def terminal(self, state) -> bool:\n",
        "        \"\"\"Check if the state is terminal (win or tie).\"\"\"\n",
        "        return len(self.available_actions(state)) == 0 or self.utility(state) != 0\n",
        "\n",
        "    def utility(self, state) -> int:\n",
        "        \"\"\"Evaluate the utility of the current state.\"\"\"\n",
        "        for line in [state[i, :] for i in range(3)] + [state[:, i] for i in range(3)] + [state.diagonal(), np.fliplr(state).diagonal()]:\n",
        "            if np.all(line == 'X'):\n",
        "                return 1\n",
        "            elif np.all(line == 'O'):\n",
        "                return -1\n",
        "        return 0  # Draw or game not finished\n"
      ],
      "metadata": {
        "id": "EwLJVSpcyiq-"
      },
      "execution_count": 52,
      "outputs": []
    },
    {
      "cell_type": "markdown",
      "source": [
        "## **7. Example Games and Testing**"
      ],
      "metadata": {
        "id": "ubml0j5T1tg3"
      }
    },
    {
      "cell_type": "markdown",
      "source": [
        "We'll run some example games to verify that the AI works as expected."
      ],
      "metadata": {
        "id": "VLaDEze08JPZ"
      }
    },
    {
      "cell_type": "markdown",
      "source": [
        "### 7.1 **AI vs AI**"
      ],
      "metadata": {
        "id": "r5aBVt3f9CuN"
      }
    },
    {
      "cell_type": "code",
      "source": [
        "# Example: AI vs AI Game\n",
        "game = TicTacToe(players=0)\n",
        "game.start()"
      ],
      "metadata": {
        "colab": {
          "base_uri": "https://localhost:8080/"
        },
        "id": "jtNFP-ei9E3D",
        "outputId": "0fce3362-af0c-401c-81b5-dd8c6f34a5ac"
      },
      "execution_count": 55,
      "outputs": [
        {
          "output_type": "stream",
          "name": "stdout",
          "text": [
            "-------------------------------------------------\n",
            "|\tX\t|\t1\t|\t2\t|\n",
            "-------------------------------------------------\n",
            "|\t3\t|\t4\t|\t5\t|\n",
            "-------------------------------------------------\n",
            "|\t6\t|\t7\t|\t8\t|\n",
            "-------------------------------------------------\n",
            "-------------------------------------------------\n",
            "|\tX\t|\t1\t|\t2\t|\n",
            "-------------------------------------------------\n",
            "|\t3\t|\tO\t|\t5\t|\n",
            "-------------------------------------------------\n",
            "|\t6\t|\t7\t|\t8\t|\n",
            "-------------------------------------------------\n",
            "-------------------------------------------------\n",
            "|\tX\t|\tX\t|\t2\t|\n",
            "-------------------------------------------------\n",
            "|\t3\t|\tO\t|\t5\t|\n",
            "-------------------------------------------------\n",
            "|\t6\t|\t7\t|\t8\t|\n",
            "-------------------------------------------------\n",
            "-------------------------------------------------\n",
            "|\tX\t|\tX\t|\tO\t|\n",
            "-------------------------------------------------\n",
            "|\t3\t|\tO\t|\t5\t|\n",
            "-------------------------------------------------\n",
            "|\t6\t|\t7\t|\t8\t|\n",
            "-------------------------------------------------\n",
            "-------------------------------------------------\n",
            "|\tX\t|\tX\t|\tO\t|\n",
            "-------------------------------------------------\n",
            "|\t3\t|\tO\t|\t5\t|\n",
            "-------------------------------------------------\n",
            "|\tX\t|\t7\t|\t8\t|\n",
            "-------------------------------------------------\n",
            "-------------------------------------------------\n",
            "|\tX\t|\tX\t|\tO\t|\n",
            "-------------------------------------------------\n",
            "|\tO\t|\tO\t|\t5\t|\n",
            "-------------------------------------------------\n",
            "|\tX\t|\t7\t|\t8\t|\n",
            "-------------------------------------------------\n",
            "-------------------------------------------------\n",
            "|\tX\t|\tX\t|\tO\t|\n",
            "-------------------------------------------------\n",
            "|\tO\t|\tO\t|\tX\t|\n",
            "-------------------------------------------------\n",
            "|\tX\t|\t7\t|\t8\t|\n",
            "-------------------------------------------------\n",
            "-------------------------------------------------\n",
            "|\tX\t|\tX\t|\tO\t|\n",
            "-------------------------------------------------\n",
            "|\tO\t|\tO\t|\tX\t|\n",
            "-------------------------------------------------\n",
            "|\tX\t|\tO\t|\t8\t|\n",
            "-------------------------------------------------\n",
            "-------------------------------------------------\n",
            "|\tX\t|\tX\t|\tO\t|\n",
            "-------------------------------------------------\n",
            "|\tO\t|\tO\t|\tX\t|\n",
            "-------------------------------------------------\n",
            "|\tX\t|\tO\t|\tX\t|\n",
            "-------------------------------------------------\n",
            "Tie\n"
          ]
        }
      ]
    },
    {
      "cell_type": "markdown",
      "source": [
        "### 7.2 **Human vs AI**"
      ],
      "metadata": {
        "id": "S3TzUXlm90HW"
      }
    },
    {
      "cell_type": "code",
      "source": [
        "\n",
        "\n",
        "# Example: Human vs AI Game\n",
        "game = TicTacToe(players=1)\n",
        "game.start()"
      ],
      "metadata": {
        "colab": {
          "base_uri": "https://localhost:8080/"
        },
        "id": "KoIimN1y8K2j",
        "outputId": "928352f2-e16f-469c-f948-97a48fe29693"
      },
      "execution_count": 56,
      "outputs": [
        {
          "output_type": "stream",
          "name": "stdout",
          "text": [
            "Player 1: Press 0-8\n",
            "-------------------------------------------------\n",
            "|\t0\t|\t1\t|\t2\t|\n",
            "-------------------------------------------------\n",
            "|\t3\t|\t4\t|\t5\t|\n",
            "-------------------------------------------------\n",
            "|\t6\t|\t7\t|\t8\t|\n",
            "-------------------------------------------------\n",
            "4\n",
            "AI turn\n",
            "-------------------------------------------------\n",
            "|\tO\t|\t1\t|\t2\t|\n",
            "-------------------------------------------------\n",
            "|\t3\t|\tX\t|\t5\t|\n",
            "-------------------------------------------------\n",
            "|\t6\t|\t7\t|\t8\t|\n",
            "-------------------------------------------------\n",
            "Player 1: Press 0-8\n",
            "-------------------------------------------------\n",
            "|\tO\t|\t1\t|\t2\t|\n",
            "-------------------------------------------------\n",
            "|\t3\t|\tX\t|\t5\t|\n",
            "-------------------------------------------------\n",
            "|\t6\t|\t7\t|\t8\t|\n",
            "-------------------------------------------------\n",
            "6\n",
            "AI turn\n",
            "-------------------------------------------------\n",
            "|\tO\t|\t1\t|\tO\t|\n",
            "-------------------------------------------------\n",
            "|\t3\t|\tX\t|\t5\t|\n",
            "-------------------------------------------------\n",
            "|\tX\t|\t7\t|\t8\t|\n",
            "-------------------------------------------------\n",
            "Player 1: Press 0-8\n",
            "-------------------------------------------------\n",
            "|\tO\t|\t1\t|\tO\t|\n",
            "-------------------------------------------------\n",
            "|\t3\t|\tX\t|\t5\t|\n",
            "-------------------------------------------------\n",
            "|\tX\t|\t7\t|\t8\t|\n",
            "-------------------------------------------------\n",
            "1\n",
            "AI turn\n",
            "-------------------------------------------------\n",
            "|\tO\t|\tX\t|\tO\t|\n",
            "-------------------------------------------------\n",
            "|\t3\t|\tX\t|\t5\t|\n",
            "-------------------------------------------------\n",
            "|\tX\t|\tO\t|\t8\t|\n",
            "-------------------------------------------------\n",
            "Player 1: Press 0-8\n",
            "-------------------------------------------------\n",
            "|\tO\t|\tX\t|\tO\t|\n",
            "-------------------------------------------------\n",
            "|\t3\t|\tX\t|\t5\t|\n",
            "-------------------------------------------------\n",
            "|\tX\t|\tO\t|\t8\t|\n",
            "-------------------------------------------------\n",
            "5\n",
            "AI turn\n",
            "-------------------------------------------------\n",
            "|\tO\t|\tX\t|\tO\t|\n",
            "-------------------------------------------------\n",
            "|\tO\t|\tX\t|\tX\t|\n",
            "-------------------------------------------------\n",
            "|\tX\t|\tO\t|\t8\t|\n",
            "-------------------------------------------------\n",
            "Player 1: Press 0-8\n",
            "-------------------------------------------------\n",
            "|\tO\t|\tX\t|\tO\t|\n",
            "-------------------------------------------------\n",
            "|\tO\t|\tX\t|\tX\t|\n",
            "-------------------------------------------------\n",
            "|\tX\t|\tO\t|\t8\t|\n",
            "-------------------------------------------------\n",
            "8\n",
            "Tie\n"
          ]
        }
      ]
    },
    {
      "cell_type": "markdown",
      "source": [
        "## **8. Conclusion and Further Optimizations**"
      ],
      "metadata": {
        "id": "t00iHB3dATPc"
      }
    },
    {
      "cell_type": "markdown",
      "source": [
        "We’ll summarize the approach, discuss the efficiency of the Minimax algorithm with Alpha-Beta Pruning, and suggest potential optimizations, such as more sophisticated evaluation functions or using machine learning techniques to improve the AI's performance."
      ],
      "metadata": {
        "id": "7qWZ0_skAhU5"
      }
    },
    {
      "cell_type": "markdown",
      "source": [
        "### **Conclusion**"
      ],
      "metadata": {
        "id": "AIQ3Ew2NBh31"
      }
    },
    {
      "cell_type": "markdown",
      "source": [
        "In this notebook, we explored the fundamentals of adversarial search and implemented a Tic-Tac-Toe AI using the Minimax algorithm with Alpha-Beta Pruning. This AI is capable of playing optimally, either against another AI or a human player. We demonstrated how the Minimax algorithm systematically evaluates all possible moves to make decisions that maximize the chance of winning while minimizing potential losses. By incorporating Alpha-Beta Pruning, we significantly reduced the number of nodes that need to be evaluated, making the algorithm more efficient without sacrificing accuracy.\n",
        "\n",
        "While the current implementation works well for a simple game like Tic-Tac-Toe, there are several areas where further optimizations and improvements can be made, especially if we aim to extend these techniques to more complex games or scenarios.\n"
      ],
      "metadata": {
        "id": "9wldBuVlEBGX"
      }
    },
    {
      "cell_type": "markdown",
      "source": [
        "### **Further Optimizations**"
      ],
      "metadata": {
        "id": "GZdLLiA5EEK7"
      }
    },
    {
      "cell_type": "markdown",
      "source": [
        "\n",
        "1. **Advanced Heuristic Evaluation Functions:**\n",
        "   - **Current Limitation:** The current Minimax implementation relies heavily on evaluating the game tree to its terminal states. While this is feasible in Tic-Tac-Toe due to the small state space, it becomes computationally expensive in more complex games (like Chess or Go).\n",
        "   - **Optimization:** Implement an advanced heuristic evaluation function that can estimate the utility of non-terminal game states more effectively. For example, in Tic-Tac-Toe, instead of simply counting potential winning lines, the evaluation function could consider the number of \"two-in-a-row\" configurations, the potential to block the opponent, and even the control of the center square, which is strategically important. This allows the algorithm to cut off the search at a certain depth while still making informed decisions based on the heuristic value of the current state.\n",
        "\n",
        "2. **Dynamic Depth Adjustment:**\n",
        "   - **Current Limitation:** The Minimax algorithm in this implementation could be enhanced by dynamically adjusting the depth of the search based on the current game state. Currently, the depth of search is implicit, given the relatively shallow nature of Tic-Tac-Toe's game tree.\n",
        "   - **Optimization:** Implement a dynamic depth adjustment where the algorithm can search deeper in critical positions (e.g., when the game is near its end or in positions where a decisive move can be made) and use shallower searches in less critical situations. This would improve the AI's decision-making speed without compromising the quality of its moves.\n",
        "\n",
        "   3. **Iterative Deepening Search:**\n",
        "   - **Current Limitation:** Minimax as implemented explores the game tree to a fixed depth or until terminal states are reached. However, this approach can be rigid and may not be the most time-efficient method in time-constrained environments.\n",
        "   - **Optimization:** Implement iterative deepening search, which combines depth-first search's memory efficiency with the breadth-first search's completeness. The algorithm performs a series of depth-limited searches, gradually increasing the depth until time runs out or the entire tree is searched. This ensures that the best possible move found within the available time is chosen, which is particularly useful in games where decision time is limited.\n",
        "\n",
        "4. **Move Ordering for Enhanced Alpha-Beta Pruning:**\n",
        "   - **Current Limitation:** The efficiency of Alpha-Beta Pruning depends on the order in which moves are evaluated. In the current implementation, moves are evaluated in the order they are generated, which may not be optimal for pruning.\n",
        "   - **Optimization:** Implement move ordering, where the AI first evaluates the moves that are most likely to result in a favorable outcome. By ordering moves intelligently (e.g., evaluating captures or checks first in Chess), Alpha-Beta Pruning can prune more branches early, further reducing the number of nodes that need to be explored.\n",
        "\n",
        "5. **Transposition Tables (Caching):**\n",
        "   - **Current Limitation:** The AI may evaluate the same position multiple times if it arises through different sequences of moves (a situation common in more complex games).\n",
        "   - **Optimization:** Implement transposition tables, which cache the results of previously evaluated positions. By storing and reusing the results of these evaluations, the algorithm avoids redundant calculations, speeding up the decision-making process. This is particularly beneficial in games with a large state space and where the same positions frequently recur.\n",
        "\n",
        "6. **Learning-Based Enhancements:**\n",
        "   - **Current Limitation:** The current AI does not learn from previous games. It plays each game independently, without adapting its strategy based on past experiences.\n",
        "   - **Optimization:** Incorporate learning-based techniques, such as reinforcement learning, where the AI can improve its strategy over time by learning from the outcomes of previous games. For example, using Q-learning or deep reinforcement learning, the AI could develop more nuanced strategies and adapt its play style to exploit the weaknesses of specific opponents.\n",
        "\n"
      ],
      "metadata": {
        "id": "sHBmfeW2EGpC"
      }
    }
  ]
}