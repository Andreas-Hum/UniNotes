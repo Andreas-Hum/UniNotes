{
  "nbformat": 4,
  "nbformat_minor": 0,
  "metadata": {
    "colab": {
      "provenance": [],
      "toc_visible": true,
      "collapsed_sections": [
        "xikwjjkOS1sE"
      ]
    },
    "kernelspec": {
      "name": "python3",
      "display_name": "Python 3"
    },
    "language_info": {
      "name": "python"
    }
  },
  "cells": [
    {
      "cell_type": "markdown",
      "source": [
        "# Maze Solver: Understanding Search Problems\n",
        "\n",
        "## Author\n",
        "**Andreas Hummelmose**  \n",
        "*Computer Science Student, 5th Semester, Aalborg University*  \n",
        "*LinkedIn: Andreas Hummelmose*\n",
        "\n",
        "---\n",
        "\n",
        "## Introduction\n",
        "This notebook is designed to guide you through the process of building a maze solver using various search algorithms. We will cover both uninformed (blind) and informed (heuristic) search strategies, explaining the underlying concepts of states, actions, state space, and cost functions. Each section provides clear examples and detailed explanations to help you understand how these algorithms work.\n",
        "\n",
        "## Problem Overview\n",
        "In search problems, the goal is to find a path from an initial state to a goal state within a defined state space. In our example, we will use a maze to demonstrate this problem, where the objective is to find the shortest path from a start point (S) to an end point (E).\n",
        "\n",
        "### Formal Definition of a Search Problem\n",
        "A search problem can be formally defined as a 6-tuple $(S, A, \\delta, s_0, G, c)$, where:\n",
        "\n",
        "- $S$: Set of all possible states.\n",
        "- $A$: Set of all possible actions.\n",
        "- $\\delta: S \\times A \\rightarrow S$: Transition function that describes the result of applying an action to a state.\n",
        "- $s_0 \\in S$: The initial state from which the search begins.\n",
        "- $G \\subseteq S$: The set of goal states that satisfy the goal test.\n",
        "- $c: S \\times A \\times S \\rightarrow \\mathbb{R}$: Cost function, defining the cost of transitioning from one state to another via an actionss\n",
        "\n",
        "### Objective\n",
        "The objective of a search problem is to find a solution—a sequence of actions $({a_1, a_2, \\dots, a_n})$—that transforms the initial state $s_0$ into a goal state $s_g \\in G$, such that the path cost $g(s_g)$ is minimized.\n",
        "\n",
        "## Key Concepts\n",
        "\n",
        "### State\n",
        "A state represents a specific configuration of the agent and its environment. In our maze example, a state corresponds to the agent's position within the maze grid.\n",
        "\n",
        "### Action\n",
        "An action is a choice that the agent can take in a given state, leading to a transition from the current state to a new state.\n",
        "\n",
        "### Transition Model\n",
        "The transition model (or function) describes what state results from performing a given action in a particular state. Formally, it can be expressed as:\n",
        "$$\n",
        "\\delta: S \\times A \\rightarrow S\n",
        "$$\n",
        "\n",
        "### Goal Test\n",
        "The goal test is a function that checks whether a given state is the goal state. Formally:\n",
        "$$\n",
        "\\text{GoalTest}(s): S \\rightarrow \\{\\text{True}, \\text{False}\\}\n",
        "$$\n",
        "\n",
        "### Path Cost\n",
        "The path cost is the total cost associated with a sequence of actions leading to a particular state from the initial state. It is often denoted as $g(s)$, where $s$ is the current state.\n",
        "\n",
        "### Frontier\n",
        "The frontier is a data structure used to keep track of the nodes that have been generated but not yet explored. The frontier can be implemented as a queue, stack, or priority queue, depending on the search strategy.\n",
        "\n",
        "## Step 1: Creating the Maze\n",
        "We begin by generating a maze, represented as a 2D grid where cells can either be walls or paths. We use Depth-First Search (DFS) to generate this maze.\n",
        "\n",
        "### DFS Maze Generation Algorithm\n",
        "The algorithm initializes a maze filled with walls and then uses DFS to carve out a path. Here’s how it works:\n",
        "\n",
        "1. **Initialization**:\n",
        "   - The maze is represented as a 2D grid where `#` represents walls.\n",
        "   - The start point (S) and end point (E) are placed in the grid.\n",
        "\n",
        "2. **DFS for Maze Carving**:\n",
        "   - Starting from the start point, DFS explores neighboring cells.\n",
        "   - For each cell, DFS randomly selects a neighbor that has not been visited and removes the wall between the current cell and the chosen neighbor.\n",
        "   - This process continues until all cells have been visited."
      ],
      "metadata": {
        "id": "BGZZ9evUK40P"
      }
    },
    {
      "cell_type": "code",
      "source": [
        "import random\n",
        "\n",
        "def create_maze(width, height):\n",
        "    # Initialize maze with walls\n",
        "    maze = [[\"#\" for _ in range(width)] for _ in range(height)]\n",
        "\n",
        "    # Define start and end points\n",
        "    end_x, end_y = 1, 1\n",
        "    start_x, start_y = width - 2, height - 2\n",
        "\n",
        "    # Set start and end in the maze\n",
        "    maze[end_y][end_x] = \"E\"\n",
        "    maze[start_y][start_x] = \"S\"\n",
        "\n",
        "    # Making sure that the start and end points are reachable\n",
        "    maze[end_y + 1][end_x] = \" \"\n",
        "    maze[end_y][end_x + 1] = \" \"\n",
        "\n",
        "    maze[start_y - 1][start_x] = \" \"\n",
        "    maze[start_y][start_x - 1] = \" \"\n",
        "\n",
        "\n",
        "    # Stack for the DFS\n",
        "    stack = [(start_x, start_y)]\n",
        "\n",
        "    # Directions for movement (right, down, left, up)\n",
        "    directions = [(0, 1), (1, 0), (0, -1), (-1, 0)]\n",
        "\n",
        "    while stack:\n",
        "        x, y = stack[-1]\n",
        "\n",
        "        # Find available neighbors\n",
        "        neighbors = []\n",
        "        for dx, dy in directions:\n",
        "            nx, ny = x + dx * 2, y + dy * 2\n",
        "            if 0 <= nx < width and 0 <= ny < height and maze[ny][nx] == \"#\":\n",
        "                neighbors.append((nx, ny, dx, dy))\n",
        "\n",
        "        if neighbors:\n",
        "            # Choose a random neighbor\n",
        "            nx, ny, dx, dy = random.choice(neighbors)\n",
        "            # Carve the path\n",
        "            maze[y + dy][x + dx] = \" \"\n",
        "            maze[ny][nx] = \" \"\n",
        "            stack.append((nx, ny))\n",
        "        else:\n",
        "            # No neighbors available, backtrack\n",
        "            stack.pop()\n",
        "    return maze"
      ],
      "metadata": {
        "id": "VAFUUw4sjhmq"
      },
      "execution_count": 1,
      "outputs": []
    },
    {
      "cell_type": "markdown",
      "source": [
        "### Example Usage:\n",
        "\n",
        "Let's generate a maze of size 15x15.\n",
        "[link text](https://)"
      ],
      "metadata": {
        "id": "OGuKBxnDjjit"
      }
    },
    {
      "cell_type": "code",
      "source": [
        "maze = create_maze(15, 15)\n",
        "\n",
        "# Print the maze to visually inspect it\n",
        "for row in maze:\n",
        "    print(\"\".join(row))"
      ],
      "metadata": {
        "colab": {
          "base_uri": "https://localhost:8080/"
        },
        "id": "KJaWWtP6jkGA",
        "outputId": "064411a5-84e8-4310-8d8b-90a2ea79d697"
      },
      "execution_count": 2,
      "outputs": [
        {
          "output_type": "stream",
          "name": "stdout",
          "text": [
            "###############\n",
            "#E          # #\n",
            "# # ### ### # #\n",
            "# # # #   # # #\n",
            "# # # ### # # #\n",
            "#   #   # #   #\n",
            "# ##### # ### #\n",
            "#       #   # #\n",
            "####### ### # #\n",
            "#     # # # # #\n",
            "# # ### # # ###\n",
            "# #     # #   #\n",
            "# ####### ### #\n",
            "#            S#\n",
            "###############\n"
          ]
        }
      ]
    },
    {
      "cell_type": "markdown",
      "source": [
        "## Step 2: Defining the Node Class\n",
        "\n",
        "To solve the maze, we need a way to represent each state, action, and cost. This is done using a `Node` class, which encapsulates these components.\n",
        "\n",
        "**Node Class Explanation**:\n",
        "- **State**: The position of the agent in the maze.\n",
        "- **Parent**: The node from which the current node was generated.\n",
        "- **Action**: The action taken to reach this node from the parent.\n",
        "- **Path Cost**: The cumulative cost to reach this node from the start.\n"
      ],
      "metadata": {
        "id": "5Wwwc1YAk1zX"
      }
    },
    {
      "cell_type": "code",
      "source": [
        "class Node:\n",
        "    def __init__(self, state, parent, action, cost=1, compare_by=\"cost\") -> None:\n",
        "        self.state = state\n",
        "        self.parent = parent\n",
        "        self.action = action\n",
        "        self.cost = cost\n",
        "        self.compare_by = compare_by\n",
        "        self.pathsum = cost + (self.parent.pathsum if self.parent else 0)\n",
        "\n",
        "    def get_path(self, give=\"cost\"):\n",
        "        path = []\n",
        "        current_node = self\n",
        "        while current_node is not None:\n",
        "            path.append((current_node.action, current_node.state, current_node.cost if give == \"cost\" else current_node.pathsum))\n",
        "            current_node = current_node.parent\n",
        "        path.reverse()\n",
        "        return path\n",
        "\n",
        "    def __lt__(self, other):\n",
        "        return self.cost < other.cost if self.compare_by == \"cost\" else self.pathsum < other.pathsum"
      ],
      "metadata": {
        "id": "wzx034BQk23z"
      },
      "execution_count": 3,
      "outputs": []
    },
    {
      "cell_type": "markdown",
      "source": [
        "## Step 3: Implementing Search Algorithms\n",
        "We now explore different search algorithms to solve the maze.\n",
        "\n",
        "###**Uninformed Search Algorithms**\n",
        "These algorithms do not use any domain-specific knowledge.\n",
        "\n",
        "#### **Depth-First Search (DFS)**\n",
        "DFS explores as far as possible along a branch before backtracking. It is implemented using a stack.\n"
      ],
      "metadata": {
        "id": "xFz8xS0OlNFw"
      }
    },
    {
      "cell_type": "code",
      "source": [
        "class Stack_Frontier:\n",
        "    \"\"\"Represents a frontier that uses a stack data structure (LIFO) with no cost\"\"\"\n",
        "\n",
        "    def __init__(self) -> None:\n",
        "        \"\"\"The frontier will represent the current nodes to be explored\"\"\"\n",
        "        self.frontier = []\n",
        "\n",
        "    def add(self, state, parent, action) -> None:\n",
        "        self.frontier.append(Node(state, parent, action))\n",
        "\n",
        "    def empty(self) -> bool:\n",
        "        return len(self.frontier) == 0\n",
        "\n",
        "    def length(self) -> int:\n",
        "        return len(self.frontier)\n",
        "\n",
        "    def contains_state(self, state) -> bool:\n",
        "        return any(node.state == state for node in self.frontier)\n",
        "\n",
        "    def remove(self) -> Node:\n",
        "        if self.length() == 0:\n",
        "            raise Exception(\"Empty frontier\")\n",
        "        else:\n",
        "            node_to_remove = self.frontier[-1]\n",
        "            self.frontier = self.frontier[:-1]\n",
        "            return node_to_remove"
      ],
      "metadata": {
        "id": "ja7bOaAplSLB"
      },
      "execution_count": 4,
      "outputs": []
    },
    {
      "cell_type": "markdown",
      "source": [
        "#### Breadth-First Search (BFS)\n",
        "\n",
        "BFS explores all nodes at the present depth level before moving on to the nodes at the next depth level. It uses a queue.\n"
      ],
      "metadata": {
        "id": "vFMqRTpplUP2"
      }
    },
    {
      "cell_type": "code",
      "source": [
        "class Queue_Frontier:\n",
        "    \"\"\"Represents a frontier that uses a queue data structure (FIFO) with no cost\"\"\"\n",
        "\n",
        "    def __init__(self) -> None:\n",
        "        \"\"\"The frontier will represent the current nodes to be explored\"\"\"\n",
        "        self.frontier = []\n",
        "\n",
        "    def add(self, state, parent, action) -> None:\n",
        "        self.frontier.append(Node(state, parent, action))\n",
        "\n",
        "    def empty(self) -> bool:\n",
        "        return len(self.frontier) == 0\n",
        "\n",
        "    def length(self) -> int:\n",
        "        return len(self.frontier)\n",
        "\n",
        "    def contains_state(self, state) -> bool:\n",
        "        return any(node.state == state for node in self.frontier)\n",
        "\n",
        "    def remove(self) -> Node:\n",
        "        if self.length() == 0:\n",
        "            raise Exception(\"The frontier is empty\")\n",
        "        else:\n",
        "            node_to_remove = self.frontier[0]\n",
        "            self.frontier = self.frontier[1:]\n",
        "            return node_to_remove"
      ],
      "metadata": {
        "id": "RkKwaHdIlWmV"
      },
      "execution_count": 5,
      "outputs": []
    },
    {
      "cell_type": "markdown",
      "source": [
        "## Informed Search Algorithms\n",
        "These algorithms use heuristics to guide the search process more efficiently\n",
        "\n",
        "### **Greedy Best-First Search (GBFS)**\n",
        "\n",
        "GBFS selects the node that appears to be closest to the goal, using a heuristic function.\n"
      ],
      "metadata": {
        "id": "7yxAvSZzlYIL"
      }
    },
    {
      "cell_type": "code",
      "source": [
        "import heapq\n",
        "\n",
        "class GreedyFrontier:\n",
        "    def __init__(self, end_point, heuristic) -> None:\n",
        "        \"\"\"The frontier will represent the current nodes to be explored\"\"\"\n",
        "        self.frontier = []\n",
        "        self.end_point = end_point\n",
        "        self.heuristic = heuristic\n",
        "        self.step = 0\n",
        "\n",
        "    def add(self, state, parent, action) -> None:\n",
        "        priority = self.heuristic(state, self.end_point)\n",
        "        heapq.heappush(self.frontier, Node(state, parent, action, priority, \"cost\"))\n",
        "        self.step += 1\n",
        "\n",
        "    def empty(self) -> bool:\n",
        "        return len(self.frontier) == 0\n",
        "\n",
        "    def length(self) -> int:\n",
        "        return len(self.frontier)\n",
        "\n",
        "    def contains_state(self, state) -> bool:\n",
        "        return any(node.state == state for node in self.frontier)\n",
        "\n",
        "    def remove(self) -> Node:\n",
        "        if self.empty():\n",
        "            raise Exception(\"Empty frontier\")\n",
        "        else:\n",
        "            node = heapq.heappop(self.frontier)\n",
        "            return node"
      ],
      "metadata": {
        "id": "Z95ZwJL_lZk5"
      },
      "execution_count": 6,
      "outputs": []
    },
    {
      "cell_type": "markdown",
      "source": [
        "### **A* Search**\n",
        "\n",
        "A* combines the actual cost to reach the current node (g) and the heuristic estimate to the goal (h), expanding the node with the lowest total estimated cost\n",
        "\n",
        "$$f(n)=g(n)+h(n)$$"
      ],
      "metadata": {
        "id": "E2hsvayClbFn"
      }
    },
    {
      "cell_type": "code",
      "source": [
        "class AStarFrontier:\n",
        "    def __init__(self, end_point, heuristic) -> None:\n",
        "        \"\"\"The frontier will represent the current nodes to be explored\"\"\"\n",
        "        self.frontier = []\n",
        "        self.end_point = end_point\n",
        "        self.heuristic = heuristic\n",
        "        self.step = 0\n",
        "\n",
        "    def add(self, state, parent, action) -> None:\n",
        "        g = self.step\n",
        "        h = self.heuristic(state, self.end_point)\n",
        "        f = g + h\n",
        "        heapq.heappush(self.frontier, Node(state, parent, action, f, \"cost\"))\n",
        "        self.step += 1\n",
        "\n",
        "    def empty(self) -> bool:\n",
        "        return len(self.frontier) == 0\n",
        "\n",
        "    def length(self) -> int:\n",
        "        return len(self.frontier)\n",
        "\n",
        "    def contains_state(self, state) -> bool:\n",
        "        return any(node.state == state for node in self.frontier)\n",
        "\n",
        "    def remove(self) -> Node:\n",
        "        if self.empty():\n",
        "            raise Exception(\"Empty frontier\")\n",
        "        else:\n",
        "            node = heapq.heappop(self.frontier)\n",
        "            return node"
      ],
      "metadata": {
        "id": "4jluH65tlcyC"
      },
      "execution_count": 7,
      "outputs": []
    },
    {
      "cell_type": "markdown",
      "source": [
        "### **Heuristic Functions**\n",
        "The effectiveness of informed search algorithms heavily relies on the quality of the heuristic function.\n",
        "\n",
        "#### **Euclidean Distance Heuristic**\n",
        "This heuristic calculates the straight-line distance between two points in a plane. It’s often used in problems where the movement is not restricted to grid lines. The Euclidean distance between two points $(x_1, y_1)$ and $(x_2, y_2)$ has the fomula:\n",
        "  $$h(n) = \\sqrt{(x_2 - x_1)^2 + (y_2 - y_1)^2}$$\n",
        "\n",
        "#### **Manhattan Distance Heuristic**\n",
        "This heuristic calculates the distance between two points measured along axes at right angles. It’s used in grid-based problems where movement is restricted to horizontal and vertical directions. The Manhattan distance between two points $(x_1, y_1)$ and $(x_2, y_2)$ has the fomula:\n",
        "  $$h(n) = |x_2 - x_1| + |y_2 - y_1|$$\n"
      ],
      "metadata": {
        "id": "_uPyy8Q2tOIL"
      }
    },
    {
      "cell_type": "markdown",
      "source": [
        "### Step 4: Maze Utilities for Parsing and Visualizing\n",
        "\n",
        "#### **MazeUtils Class**\n",
        "\n",
        "To facilitate maze parsing and solution visualization, we'll use the `MazeUtils` class.\n"
      ],
      "metadata": {
        "id": "-StbMFKklgl3"
      }
    },
    {
      "cell_type": "code",
      "source": [
        "import numpy as np\n",
        "import matplotlib.pyplot as plt\n",
        "\n",
        "class MazeUtils:\n",
        "    def __init__(self) -> None:\n",
        "        pass\n",
        "\n",
        "    def maze_parser(self, maze):\n",
        "        self.height = len(maze)\n",
        "        self.width = len(maze[0])\n",
        "        self.walls = [[cell == \"#\" for cell in row] for row in maze]\n",
        "        start = end = None\n",
        "\n",
        "        for y in range(self.height):\n",
        "            for x in range(self.width):\n",
        "                if maze[y][x] == \"S\":\n",
        "                    start = (x, y)\n",
        "                elif maze[y][x] == \"E\":\n",
        "                    end = (x, y)\n",
        "\n",
        "        if not start or not end:\n",
        "            raise ValueError(\"Maze must have a start (S) and an end (E)\")\n",
        "\n",
        "        self.start_point = start\n",
        "        self.end_point = end\n",
        "\n",
        "        return self.height, self.width, self.start_point, self.end_point, self.walls\n",
        "\n",
        "    def print_solution(\n",
        "        self, show_visited=False, show_amount=False, highlight_current=None, title=None\n",
        "    ):\n",
        "        # Define the grid with walls and empty spaces\n",
        "        maze = np.zeros((self.height, self.width))\n",
        "\n",
        "        for y in range(self.height):\n",
        "            for x in range(self.width):\n",
        "                if self.walls[y][x]:\n",
        "                    maze[y][x] = 1  # Walls\n",
        "\n",
        "        # Mark visited nodes if show_visited is True\n",
        "        if show_visited:\n",
        "            for visited_state, cost in self.visited:\n",
        "                visited_x, visited_y = visited_state\n",
        "                maze[visited_y][visited_x] = 2  # Visited nodes (not part of the solution)\n",
        "\n",
        "        # Mark the solution path\n",
        "        if self.solution is not None:\n",
        "            for action, (path_x, path_y), amount in self.solution:\n",
        "                maze[path_y][path_x] = 3  # Solution path\n",
        "\n",
        "        # Mark the start and end points\n",
        "        start_x, start_y = self.start_point\n",
        "        end_x, end_y = self.end_point\n",
        "        maze[start_y][start_x] = 4  # Start\n",
        "        maze[end_y][end_x] = 5  # End\n",
        "\n",
        "        # Highlight current node\n",
        "        if highlight_current:\n",
        "            current_x, current_y = highlight_current\n",
        "            maze[current_y][current_x] = 6  # Current node\n",
        "\n",
        "        # Define the color map\n",
        "        cmap = plt.cm.colors.ListedColormap(\n",
        "            [\"white\", \"black\", \"yellow\", \"green\", \"blue\", \"red\", \"purple\"]\n",
        "        )\n",
        "        bounds = [0, 1, 2, 3, 4, 5, 6, 7]\n",
        "        norm = plt.cm.colors.BoundaryNorm(bounds, cmap.N)\n",
        "\n",
        "        # Plot the maze\n",
        "        fig, ax = plt.subplots(figsize=(10, 10))\n",
        "        ax.imshow(maze, cmap=cmap, norm=norm)\n",
        "\n",
        "        # Add gridlines\n",
        "        ax.grid(which=\"major\", axis=\"both\", linestyle=\"-\", color=\"k\", linewidth=2)\n",
        "        ax.set_xticks(np.arange(-0.5, self.width, 1))\n",
        "        ax.set_yticks(np.arange(-0.5, self.height, 1))\n",
        "\n",
        "        # Remove tick labels\n",
        "        ax.set_xticklabels([])\n",
        "        ax.set_yticklabels([])\n",
        "\n",
        "        # Show amounts if requested\n",
        "        if show_amount:\n",
        "            for visited_state, cost in self.visited:\n",
        "                visited_x, visited_y = visited_state\n",
        "                ax.text(\n",
        "                    visited_x,\n",
        "                    visited_y,\n",
        "                    f\"{cost:.1f}\",\n",
        "                    ha=\"center\",\n",
        "                    va=\"center\",\n",
        "                    color=\"black\",\n",
        "                    fontweight=\"bold\",\n",
        "                )\n",
        "\n",
        "        if title:\n",
        "            plt.title(title)\n",
        "\n",
        "        # Show the plot\n",
        "        plt.show()"
      ],
      "metadata": {
        "id": "6WXF6UjglhX0"
      },
      "execution_count": 8,
      "outputs": []
    },
    {
      "cell_type": "markdown",
      "source": [
        "### Step 5: Implementing the MazeSolver with MazeUtils\n",
        "\n",
        "Now, we'll integrate `MazeUtils` with the `MazeSolver` to parse the maze and visualize the results."
      ],
      "metadata": {
        "id": "0wQBgwTIllOo"
      }
    },
    {
      "cell_type": "code",
      "source": [
        "class MazeSolver(MazeUtils):\n",
        "    def __init__(self, maze):\n",
        "        super().__init__()\n",
        "        self.maze = maze\n",
        "        self.height, self.width, self.start_point, self.end_point, self.walls = self.maze_parser(maze)\n",
        "        self.solution = None\n",
        "        self.visited = set()\n",
        "\n",
        "    def get_valid_actions(self, state):\n",
        "        actions = []\n",
        "        x, y = state\n",
        "\n",
        "        if x + 1 < self.width and not self.walls[y][x + 1]:\n",
        "            actions.append((\"Right\", (x + 1, y)))\n",
        "        if x - 1 >= 0 and not self.walls[y][x - 1]:\n",
        "            actions.append((\"Left\", (x - 1, y)))\n",
        "        if y + 1 < self.height and not self.walls[y + 1][x]:\n",
        "            actions.append((\"Down\", (x, y + 1)))\n",
        "        if y - 1 >= 0 and not self.walls[y - 1][x]:\n",
        "            actions.append((\"Up\", (x, y - 1)))\n",
        "        return actions\n",
        "\n",
        "    def solve(self, frontier_type, frontier_params=None, grid_text=\"cost\"):\n",
        "        if frontier_params is None:\n",
        "            frontier_params = {}\n",
        "        frontier = frontier_type(**frontier_params)\n",
        "\n",
        "        frontier.add(self.start_point, None, None)\n",
        "        self.visited = set()\n",
        "\n",
        "        while not frontier.empty():\n",
        "            current_node = frontier.remove()\n",
        "\n",
        "            if current_node.state == self.end_point:\n",
        "                self.solution = current_node.get_path(grid_text)\n",
        "                return\n",
        "\n",
        "            if current_node.state not in self.visited:\n",
        "                self.visited.add(\n",
        "                    (\n",
        "                        current_node.state,\n",
        "                        current_node.cost\n",
        "                        if grid_text == \"cost\"\n",
        "                        else current_node.pathsum - current_node.cost,\n",
        "                    )\n",
        "                )\n",
        "\n",
        "                actions = self.get_valid_actions(current_node.state)\n",
        "\n",
        "                for action, state in actions:\n",
        "                    if state not in [\n",
        "                        v[0] for v in self.visited\n",
        "                    ] and not frontier.contains_state(state):\n",
        "                        frontier.add(state, current_node, action)\n",
        "\n",
        "        self.solution = None\n",
        "\n",
        "    def display_solution(self, show_visited=False, show_amount=False):\n",
        "        self.print_solution(show_visited=show_visited, show_amount=show_amount)"
      ],
      "metadata": {
        "id": "qNDFQuToloOw"
      },
      "execution_count": 9,
      "outputs": []
    },
    {
      "cell_type": "markdown",
      "source": [
        "### Example Usage: Solving the Maze\n",
        "\n",
        "Let's test each algorithm with our maze.\n",
        "\n",
        "#### Depth-First Search"
      ],
      "metadata": {
        "id": "DDV4eF2PlrdH"
      }
    },
    {
      "cell_type": "code",
      "source": [
        "# Create the maze and solver\n",
        "maze = create_maze(20, 20)\n",
        "solver = MazeSolver(maze)\n",
        "\n",
        "# Solve using DFS\n",
        "solver.solve(Stack_Frontier)\n",
        "print(\"DFS Solution:\")\n",
        "solver.display_solution(show_visited=True, show_amount=False)"
      ],
      "metadata": {
        "colab": {
          "base_uri": "https://localhost:8080/",
          "height": 828
        },
        "id": "0mhTXL6rlueW",
        "outputId": "ad68b422-3e9c-429d-fcd5-1e4b3e708ba0"
      },
      "execution_count": 10,
      "outputs": [
        {
          "output_type": "stream",
          "name": "stdout",
          "text": [
            "DFS Solution:\n"
          ]
        },
        {
          "output_type": "display_data",
          "data": {
            "text/plain": [
              "<Figure size 1000x1000 with 1 Axes>"
            ],
            "image/png": "[encoded data removed]"
          },
          "metadata": {}
        }
      ]
    },
    {
      "cell_type": "markdown",
      "source": [
        "#### Breadth-First Search\n"
      ],
      "metadata": {
        "id": "DjP9H3T3mcfp"
      }
    },
    {
      "cell_type": "code",
      "source": [
        "# Solve using BFS\n",
        "solver.solve(Queue_Frontier)\n",
        "print(\"BFS Solution:\")\n",
        "solver.display_solution(show_visited=True, show_amount=False)"
      ],
      "metadata": {
        "colab": {
          "base_uri": "https://localhost:8080/",
          "height": 828
        },
        "id": "YaeC7Uk3mfWN",
        "outputId": "69a106c3-eeea-45d8-9490-b8e28999f75d"
      },
      "execution_count": 11,
      "outputs": [
        {
          "output_type": "stream",
          "name": "stdout",
          "text": [
            "BFS Solution:\n"
          ]
        },
        {
          "output_type": "display_data",
          "data": {
            "text/plain": [
              "<Figure size 1000x1000 with 1 Axes>"
            ],
            "image/png": "[encoded data removed]"
          },
          "metadata": {}
        }
      ]
    },
    {
      "cell_type": "markdown",
      "source": [
        "#### Greedy Best-First Search\n"
      ],
      "metadata": {
        "id": "jrT_sw0OnJHc"
      }
    },
    {
      "cell_type": "code",
      "source": [
        "# Define a simple Euclidean heuristic\n",
        "def euclidean_heuristic(state, goal):\n",
        "    return ((state[0] - goal[0]) ** 2 + (state[1] - goal[1]) ** 2) ** 0.5\n",
        "\n",
        "# Solve using GBFS\n",
        "solver.solve(GreedyFrontier, {\"end_point\": solver.end_point, \"heuristic\": euclidean_heuristic})\n",
        "print(\"GBFS Solution:\")\n",
        "solver.display_solution(show_visited=True, show_amount=True)"
      ],
      "metadata": {
        "colab": {
          "base_uri": "https://localhost:8080/",
          "height": 828
        },
        "id": "5j3qIGLXnK5A",
        "outputId": "bc86dce2-7ec8-442d-f670-77566a18e885"
      },
      "execution_count": 12,
      "outputs": [
        {
          "output_type": "stream",
          "name": "stdout",
          "text": [
            "GBFS Solution:\n"
          ]
        },
        {
          "output_type": "display_data",
          "data": {
            "text/plain": [
              "<Figure size 1000x1000 with 1 Axes>"
            ],
            "image/png": "[encoded data removed]"
          },
          "metadata": {}
        }
      ]
    },
    {
      "cell_type": "markdown",
      "source": [
        "#### A* Search"
      ],
      "metadata": {
        "id": "IZ1y6MIEnnoq"
      }
    },
    {
      "cell_type": "code",
      "source": [
        "# Solve using A*\n",
        "solver.solve(AStarFrontier, {\"end_point\": solver.end_point, \"heuristic\": euclidean_heuristic})\n",
        "print(\"A* Solution:\")\n",
        "solver.display_solution(show_visited=True, show_amount=True)"
      ],
      "metadata": {
        "colab": {
          "base_uri": "https://localhost:8080/",
          "height": 828
        },
        "id": "BWw8ejExnoqm",
        "outputId": "b9a0ef13-9c59-415e-be46-d98f59e929b3"
      },
      "execution_count": 13,
      "outputs": [
        {
          "output_type": "stream",
          "name": "stdout",
          "text": [
            "A* Solution:\n"
          ]
        },
        {
          "output_type": "display_data",
          "data": {
            "text/plain": [
              "<Figure size 1000x1000 with 1 Axes>"
            ],
            "image/png": "[encoded data removed]"
          },
          "metadata": {}
        }
      ]
    }
  ]
}